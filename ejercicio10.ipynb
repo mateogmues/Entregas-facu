{
 "cells": [
  {
   "cell_type": "markdown",
   "metadata": {},
   "source": [
    "Lo primero a realizar es abrir los archivos de texto en modo lectura y asignarle a cada archivo una variable para trabajar."
   ]
  },
  {
   "cell_type": "code",
   "execution_count": 1,
   "metadata": {},
   "outputs": [],
   "source": [
    "nombres=open('nombres_1.txt', 'r', encoding='utf8')\n",
    "eval1=open('eval1.txt','r') \n",
    "eval2=open('eval2.txt','r')"
   ]
  },
  {
   "cell_type": "markdown",
   "metadata": {},
   "source": [
    "Luego, llamo a la funcion generar_lista(), que me devuelve una lista en la que cada elemento es una tupla cuyo primer elemento es el nombre del alumno y el segundo es el total de su nota. Con la funcion Zip(), puedo iterar sobre varios elementos a la vez. Por otra parte, con strip() puedo sacar los caracteres que estan entre los parentesis para que asi solo me quede el nombre y la nota.\n",
    "\n"
   ]
  },
  {
   "cell_type": "code",
   "execution_count": 2,
   "metadata": {},
   "outputs": [],
   "source": [
    "def generar_lista():\n",
    "    lista=[]\n",
    "    for n,e1,e2 in zip(nombres,eval1,eval2):\n",
    "        n=n.strip(\"',.\\n\\\" \")\n",
    "        e1=int(e1.strip(\"' , . \\n \\\" \"))\n",
    "        e2=int(e2.strip(\"' , . \\n \\\" \"))\n",
    "        tupla_alumno=(n,e1+e2)\n",
    "        lista.append(tupla_alumno) \n",
    "    return lista\n",
    "\n",
    "#---------------\n",
    "\n",
    "lista= generar_lista()"
   ]
  },
  {
   "cell_type": "markdown",
   "metadata": {},
   "source": [
    "Con la lista generada, solo me queda calcular el promedio de las notas con la funcion calcular_promedio, que recibe la lista y la recorre para calcular la suma de todas las notas y luego lo divide por la cantidad de alumnos."
   ]
  },
  {
   "cell_type": "code",
   "execution_count": 3,
   "metadata": {},
   "outputs": [],
   "source": [
    "def calcular_promedio(elem):\n",
    "    total=0\n",
    "    for elem in lista:\n",
    "        total+=elem[1]\n",
    "    promedio= total/len(lista)\n",
    "    return promedio\n",
    "\n",
    "#--------------\n",
    "\n",
    "promedio= calcular_promedio(lista)"
   ]
  },
  {
   "cell_type": "markdown",
   "metadata": {},
   "source": [
    "Recorro la lista de los alumnos e informo aquellos cuya nota total sea menor al promedio calculado.\n"
   ]
  },
  {
   "cell_type": "code",
   "execution_count": null,
   "metadata": {},
   "outputs": [],
   "source": [
    "for alumno in lista:\n",
    "    if alumno[1]<promedio:\n",
    "        print(f'El alumno {alumno[0]} tiene una nota menor al promedio')"
   ]
  },
  {
   "cell_type": "markdown",
   "metadata": {},
   "source": [
    "Por ultimo, cierro los archivos con close () "
   ]
  },
  {
   "cell_type": "code",
   "execution_count": 5,
   "metadata": {},
   "outputs": [],
   "source": [
    "nombres.close()\n",
    "eval1.close()\n",
    "eval2.close()"
   ]
  },
  {
   "cell_type": "code",
   "execution_count": null,
   "metadata": {},
   "outputs": [],
   "source": []
  }
 ],
 "metadata": {
  "interpreter": {
   "hash": "0a772c6aa6c9740c9de5c6ae34e9813939a642d41eea9d2b11d68b4d526a8e34"
  },
  "kernelspec": {
   "display_name": "Python 3.10.3 64-bit",
   "language": "python",
   "name": "python3"
  },
  "language_info": {
   "codemirror_mode": {
    "name": "ipython",
    "version": 3
   },
   "file_extension": ".py",
   "mimetype": "text/x-python",
   "name": "python",
   "nbconvert_exporter": "python",
   "pygments_lexer": "ipython3",
   "version": "3.10.3"
  },
  "orig_nbformat": 4
 },
 "nbformat": 4,
 "nbformat_minor": 2
}
